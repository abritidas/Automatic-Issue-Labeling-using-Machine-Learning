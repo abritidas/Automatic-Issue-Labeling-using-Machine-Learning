{
 "cells": [
  {
   "cell_type": "markdown",
   "metadata": {
    "id": "FdXiwjtkt6XK"
   },
   "source": [
    "**Classification of Issues**"
   ]
  },
  {
   "cell_type": "markdown",
   "metadata": {
    "id": "IgBzz7bRek9S"
   },
   "source": [
    "**Github Issues Classification using Machine Learning**\n",
    "\n",
    "*   Predicting if Github Issue is a Bug, Enhancement or Question."
   ]
  },
  {
   "cell_type": "code",
   "execution_count": 1,
   "metadata": {
    "id": "FbL_5CzdfIq7"
   },
   "outputs": [],
   "source": [
    "# Importing libraries\n",
    "import pandas as pd # for data analysis\n",
    "import neattext.functions as nfx # for text cleaning\n",
    "import seaborn as sns"
   ]
  },
  {
   "cell_type": "code",
   "execution_count": 2,
   "metadata": {
    "id": "5wBuVFtofLh0"
   },
   "outputs": [],
   "source": [
    "# Load Dataset from the csv\n",
    "df_label = pd.read_csv('https://raw.githubusercontent.com/abritidas/Automatic-Issue-Labeling-using-Machine-Learning/refs/heads/main/github-labels-top3-34k.csv', header=None, sep=',')"
   ]
  },
  {
   "cell_type": "code",
   "execution_count": 3,
   "metadata": {
    "colab": {
     "base_uri": "https://localhost:8080/",
     "height": 359
    },
    "id": "ZG4jTVmqUz62",
    "outputId": "577c5ad1-0d9b-4935-ed2b-9fb496ea84a3"
   },
   "outputs": [
    {
     "data": {
      "text/html": [
       "<div>\n",
       "<style scoped>\n",
       "    .dataframe tbody tr th:only-of-type {\n",
       "        vertical-align: middle;\n",
       "    }\n",
       "\n",
       "    .dataframe tbody tr th {\n",
       "        vertical-align: top;\n",
       "    }\n",
       "\n",
       "    .dataframe thead th {\n",
       "        text-align: right;\n",
       "    }\n",
       "</style>\n",
       "<table border=\"1\" class=\"dataframe\">\n",
       "  <thead>\n",
       "    <tr style=\"text-align: right;\">\n",
       "      <th></th>\n",
       "      <th>0</th>\n",
       "    </tr>\n",
       "  </thead>\n",
       "  <tbody>\n",
       "    <tr>\n",
       "      <th>0</th>\n",
       "      <td>__label__bug `cancelTimeout` is not a function...</td>\n",
       "    </tr>\n",
       "    <tr>\n",
       "      <th>1</th>\n",
       "      <td>__label__enhancement Switch Router to Browser ...</td>\n",
       "    </tr>\n",
       "    <tr>\n",
       "      <th>2</th>\n",
       "      <td>__label__bug PostgreSQL Binding fails ```  ⚠️ ...</td>\n",
       "    </tr>\n",
       "    <tr>\n",
       "      <th>3</th>\n",
       "      <td>__label__enhancement Enable autocompletion and...</td>\n",
       "    </tr>\n",
       "    <tr>\n",
       "      <th>4</th>\n",
       "      <td>__label__bug MacOS Chrome bug Scott McIntyre r...</td>\n",
       "    </tr>\n",
       "    <tr>\n",
       "      <th>5</th>\n",
       "      <td>__label__enhancement User should be able to ad...</td>\n",
       "    </tr>\n",
       "    <tr>\n",
       "      <th>6</th>\n",
       "      <td>__label__enhancement [page]: Add keyevent to c...</td>\n",
       "    </tr>\n",
       "    <tr>\n",
       "      <th>7</th>\n",
       "      <td>__label__enhancement 建议增加类似 redux-devtools 的停靠...</td>\n",
       "    </tr>\n",
       "    <tr>\n",
       "      <th>8</th>\n",
       "      <td>__label__bug Converting FBX file using convert...</td>\n",
       "    </tr>\n",
       "    <tr>\n",
       "      <th>9</th>\n",
       "      <td>__label__enhancement Browser.assert.text shoul...</td>\n",
       "    </tr>\n",
       "  </tbody>\n",
       "</table>\n",
       "</div>"
      ],
      "text/plain": [
       "                                                   0\n",
       "0  __label__bug `cancelTimeout` is not a function...\n",
       "1  __label__enhancement Switch Router to Browser ...\n",
       "2  __label__bug PostgreSQL Binding fails ```  ⚠️ ...\n",
       "3  __label__enhancement Enable autocompletion and...\n",
       "4  __label__bug MacOS Chrome bug Scott McIntyre r...\n",
       "5  __label__enhancement User should be able to ad...\n",
       "6  __label__enhancement [page]: Add keyevent to c...\n",
       "7  __label__enhancement 建议增加类似 redux-devtools 的停靠...\n",
       "8  __label__bug Converting FBX file using convert...\n",
       "9  __label__enhancement Browser.assert.text shoul..."
      ]
     },
     "execution_count": 3,
     "metadata": {},
     "output_type": "execute_result"
    }
   ],
   "source": [
    "df_label.head(10)"
   ]
  },
  {
   "cell_type": "markdown",
   "metadata": {
    "id": "xwPp-Z1rjq8e"
   },
   "source": [
    "#### Prepare Dataset\n",
    "+ Extract labels and description from dataset\n",
    "    - Categories:\n",
    "        - Enhancement\n",
    "        - Bug\n",
    "        - Question"
   ]
  },
  {
   "cell_type": "code",
   "execution_count": 4,
   "metadata": {
    "id": "g7ZoqRsdjqhn"
   },
   "outputs": [],
   "source": [
    "df_label = df_label[0].str.split(r'(__label__enhancement)|(__label__bug)|(__label__question)', expand=True)"
   ]
  },
  {
   "cell_type": "code",
   "execution_count": 5,
   "metadata": {
    "colab": {
     "base_uri": "https://localhost:8080/",
     "height": 419
    },
    "id": "PD5XKnyBqBwj",
    "outputId": "eb49e4b6-c356-4170-ab4e-0d9f75883c2a"
   },
   "outputs": [
    {
     "data": {
      "text/html": [
       "<div>\n",
       "<style scoped>\n",
       "    .dataframe tbody tr th:only-of-type {\n",
       "        vertical-align: middle;\n",
       "    }\n",
       "\n",
       "    .dataframe tbody tr th {\n",
       "        vertical-align: top;\n",
       "    }\n",
       "\n",
       "    .dataframe thead th {\n",
       "        text-align: right;\n",
       "    }\n",
       "</style>\n",
       "<table border=\"1\" class=\"dataframe\">\n",
       "  <thead>\n",
       "    <tr style=\"text-align: right;\">\n",
       "      <th></th>\n",
       "      <th>0</th>\n",
       "      <th>1</th>\n",
       "      <th>2</th>\n",
       "      <th>3</th>\n",
       "      <th>4</th>\n",
       "    </tr>\n",
       "  </thead>\n",
       "  <tbody>\n",
       "    <tr>\n",
       "      <th>0</th>\n",
       "      <td></td>\n",
       "      <td>None</td>\n",
       "      <td>__label__bug</td>\n",
       "      <td>None</td>\n",
       "      <td>`cancelTimeout` is not a function ```  /build...</td>\n",
       "    </tr>\n",
       "    <tr>\n",
       "      <th>1</th>\n",
       "      <td></td>\n",
       "      <td>__label__enhancement</td>\n",
       "      <td>None</td>\n",
       "      <td>None</td>\n",
       "      <td>Switch Router to Browser Router If we can fig...</td>\n",
       "    </tr>\n",
       "    <tr>\n",
       "      <th>2</th>\n",
       "      <td></td>\n",
       "      <td>None</td>\n",
       "      <td>__label__bug</td>\n",
       "      <td>None</td>\n",
       "      <td>PostgreSQL Binding fails ```  ⚠️ [PostgreSQLD...</td>\n",
       "    </tr>\n",
       "    <tr>\n",
       "      <th>3</th>\n",
       "      <td></td>\n",
       "      <td>__label__enhancement</td>\n",
       "      <td>None</td>\n",
       "      <td>None</td>\n",
       "      <td>Enable autocompletion and quickinfo for confi...</td>\n",
       "    </tr>\n",
       "    <tr>\n",
       "      <th>4</th>\n",
       "      <td></td>\n",
       "      <td>None</td>\n",
       "      <td>__label__bug</td>\n",
       "      <td>None</td>\n",
       "      <td>MacOS Chrome bug Scott McIntyre reports that ...</td>\n",
       "    </tr>\n",
       "    <tr>\n",
       "      <th>5</th>\n",
       "      <td></td>\n",
       "      <td>__label__enhancement</td>\n",
       "      <td>None</td>\n",
       "      <td>None</td>\n",
       "      <td>User should be able to add product to custome...</td>\n",
       "    </tr>\n",
       "    <tr>\n",
       "      <th>6</th>\n",
       "      <td></td>\n",
       "      <td>__label__enhancement</td>\n",
       "      <td>None</td>\n",
       "      <td>None</td>\n",
       "      <td>[page]: Add keyevent to close a page Add a ev...</td>\n",
       "    </tr>\n",
       "    <tr>\n",
       "      <th>7</th>\n",
       "      <td></td>\n",
       "      <td>__label__enhancement</td>\n",
       "      <td>None</td>\n",
       "      <td>None</td>\n",
       "      <td>建议增加类似 redux-devtools 的停靠窗口的功能 现在的 xswitch 作为...</td>\n",
       "    </tr>\n",
       "    <tr>\n",
       "      <th>8</th>\n",
       "      <td></td>\n",
       "      <td>None</td>\n",
       "      <td>__label__bug</td>\n",
       "      <td>None</td>\n",
       "      <td>Converting FBX file using convert_to_threejs....</td>\n",
       "    </tr>\n",
       "    <tr>\n",
       "      <th>9</th>\n",
       "      <td></td>\n",
       "      <td>__label__enhancement</td>\n",
       "      <td>None</td>\n",
       "      <td>None</td>\n",
       "      <td>Browser.assert.text should support an array o...</td>\n",
       "    </tr>\n",
       "  </tbody>\n",
       "</table>\n",
       "</div>"
      ],
      "text/plain": [
       "  0                     1             2     3  \\\n",
       "0                    None  __label__bug  None   \n",
       "1    __label__enhancement          None  None   \n",
       "2                    None  __label__bug  None   \n",
       "3    __label__enhancement          None  None   \n",
       "4                    None  __label__bug  None   \n",
       "5    __label__enhancement          None  None   \n",
       "6    __label__enhancement          None  None   \n",
       "7    __label__enhancement          None  None   \n",
       "8                    None  __label__bug  None   \n",
       "9    __label__enhancement          None  None   \n",
       "\n",
       "                                                   4  \n",
       "0   `cancelTimeout` is not a function ```  /build...  \n",
       "1   Switch Router to Browser Router If we can fig...  \n",
       "2   PostgreSQL Binding fails ```  ⚠️ [PostgreSQLD...  \n",
       "3   Enable autocompletion and quickinfo for confi...  \n",
       "4   MacOS Chrome bug Scott McIntyre reports that ...  \n",
       "5   User should be able to add product to custome...  \n",
       "6   [page]: Add keyevent to close a page Add a ev...  \n",
       "7   建议增加类似 redux-devtools 的停靠窗口的功能 现在的 xswitch 作为...  \n",
       "8   Converting FBX file using convert_to_threejs....  \n",
       "9   Browser.assert.text should support an array o...  "
      ]
     },
     "execution_count": 5,
     "metadata": {},
     "output_type": "execute_result"
    }
   ],
   "source": [
    "df_label.head(10)"
   ]
  },
  {
   "cell_type": "code",
   "execution_count": 6,
   "metadata": {
    "id": "9qMGjsz9j0uE"
   },
   "outputs": [],
   "source": [
    "# Separate the data into different data frames based on label\n",
    "enhancement_df = df_label[df_label[1] == '__label__enhancement'][[1,4]]\n",
    "bug_df = df_label[df_label[2] == '__label__bug'][[2,4]]\n",
    "question_df = df_label[df_label[3] == '__label__question'][[3,4]]"
   ]
  },
  {
   "cell_type": "code",
   "execution_count": 7,
   "metadata": {
    "id": "TlgOp7T_j8Iy"
   },
   "outputs": [],
   "source": [
    "# Add headers to columns\n",
    "enhancement_df.columns = ['label','description']\n",
    "bug_df.columns = ['label','description']\n",
    "question_df.columns = ['label','description']"
   ]
  },
  {
   "cell_type": "code",
   "execution_count": 8,
   "metadata": {
    "id": "isUjvAmhkaur"
   },
   "outputs": [],
   "source": [
    "# Merge all labels dataframe into one\n",
    "labels_clean_df = pd.concat([enhancement_df, bug_df, question_df])"
   ]
  },
  {
   "cell_type": "code",
   "execution_count": 9,
   "metadata": {
    "id": "PJPJE_yVkgy_"
   },
   "outputs": [],
   "source": [
    "# Clean the prefix in label\n",
    "labels_clean_df['label'] = labels_clean_df['label'].str.replace('__label__', '')"
   ]
  },
  {
   "cell_type": "code",
   "execution_count": 10,
   "metadata": {
    "id": "94ubhRzDkiUC"
   },
   "outputs": [],
   "source": [
    "# Save the clean data to a file\n",
    "labels_clean_df.to_csv(\"final_dataframe.csv\")"
   ]
  },
  {
   "cell_type": "code",
   "execution_count": 11,
   "metadata": {
    "colab": {
     "base_uri": "https://localhost:8080/",
     "height": 204
    },
    "id": "2MKNV_FnU6HJ",
    "outputId": "295ec011-5c1f-4553-cebb-6abc6301c2ec"
   },
   "outputs": [
    {
     "data": {
      "text/html": [
       "<div>\n",
       "<style scoped>\n",
       "    .dataframe tbody tr th:only-of-type {\n",
       "        vertical-align: middle;\n",
       "    }\n",
       "\n",
       "    .dataframe tbody tr th {\n",
       "        vertical-align: top;\n",
       "    }\n",
       "\n",
       "    .dataframe thead th {\n",
       "        text-align: right;\n",
       "    }\n",
       "</style>\n",
       "<table border=\"1\" class=\"dataframe\">\n",
       "  <thead>\n",
       "    <tr style=\"text-align: right;\">\n",
       "      <th></th>\n",
       "      <th>label</th>\n",
       "      <th>description</th>\n",
       "    </tr>\n",
       "  </thead>\n",
       "  <tbody>\n",
       "    <tr>\n",
       "      <th>1</th>\n",
       "      <td>enhancement</td>\n",
       "      <td>Switch Router to Browser Router If we can fig...</td>\n",
       "    </tr>\n",
       "    <tr>\n",
       "      <th>3</th>\n",
       "      <td>enhancement</td>\n",
       "      <td>Enable autocompletion and quickinfo for confi...</td>\n",
       "    </tr>\n",
       "    <tr>\n",
       "      <th>5</th>\n",
       "      <td>enhancement</td>\n",
       "      <td>User should be able to add product to custome...</td>\n",
       "    </tr>\n",
       "    <tr>\n",
       "      <th>6</th>\n",
       "      <td>enhancement</td>\n",
       "      <td>[page]: Add keyevent to close a page Add a ev...</td>\n",
       "    </tr>\n",
       "    <tr>\n",
       "      <th>7</th>\n",
       "      <td>enhancement</td>\n",
       "      <td>建议增加类似 redux-devtools 的停靠窗口的功能 现在的 xswitch 作为...</td>\n",
       "    </tr>\n",
       "  </tbody>\n",
       "</table>\n",
       "</div>"
      ],
      "text/plain": [
       "         label                                        description\n",
       "1  enhancement   Switch Router to Browser Router If we can fig...\n",
       "3  enhancement   Enable autocompletion and quickinfo for confi...\n",
       "5  enhancement   User should be able to add product to custome...\n",
       "6  enhancement   [page]: Add keyevent to close a page Add a ev...\n",
       "7  enhancement   建议增加类似 redux-devtools 的停靠窗口的功能 现在的 xswitch 作为..."
      ]
     },
     "execution_count": 11,
     "metadata": {},
     "output_type": "execute_result"
    }
   ],
   "source": [
    "labels_clean_df.head()"
   ]
  },
  {
   "cell_type": "markdown",
   "metadata": {
    "id": "wHfy2-GVX9tW"
   },
   "source": [
    "Class Distribution Analysis\n",
    "    - Shows the categories of labels vs count of each category"
   ]
  },
  {
   "cell_type": "code",
   "execution_count": 12,
   "metadata": {
    "colab": {
     "base_uri": "https://localhost:8080/"
    },
    "id": "7Hiyvrcyncxc",
    "outputId": "c5f77410-f4de-4c59-9bd2-66c10f0d3a00"
   },
   "outputs": [
    {
     "data": {
      "text/plain": [
       "label\n",
       "bug            16355\n",
       "enhancement    14228\n",
       "question        3458\n",
       "Name: count, dtype: int64"
      ]
     },
     "execution_count": 12,
     "metadata": {},
     "output_type": "execute_result"
    }
   ],
   "source": [
    "labels_clean_df['label'].value_counts()"
   ]
  },
  {
   "cell_type": "code",
   "execution_count": 13,
   "metadata": {
    "colab": {
     "base_uri": "https://localhost:8080/",
     "height": 296
    },
    "id": "0qvdjkLMYDF5",
    "outputId": "a6717e7f-6e96-4005-e725-34a8b2a3eb1c"
   },
   "outputs": [
    {
     "data": {
      "text/plain": [
       "<Axes: xlabel='label', ylabel='count'>"
      ]
     },
     "execution_count": 13,
     "metadata": {},
     "output_type": "execute_result"
    },
    {
     "data": {
      "image/png": "[encoded data removed]",
      "text/plain": [
       "<Figure size 640x480 with 1 Axes>"
      ]
     },
     "metadata": {},
     "output_type": "display_data"
    }
   ],
   "source": [
    "sns.countplot(x = 'label', data = labels_clean_df)"
   ]
  },
  {
   "cell_type": "code",
   "execution_count": 14,
   "metadata": {
    "id": "DEFx2aIqogOU"
   },
   "outputs": [],
   "source": [
    "# Cleaning data further by removing stopwords and be consistent with casing\n",
    "labels_clean_df['descriptionClean'] = labels_clean_df['description'].apply(lambda x: nfx.remove_stopwords(str(x).lower()))"
   ]
  },
  {
   "cell_type": "code",
   "execution_count": 15,
   "metadata": {
    "colab": {
     "base_uri": "https://localhost:8080/",
     "height": 204
    },
    "id": "S6izm1T0CBMZ",
    "outputId": "e0cce83f-dddc-46ca-a621-d2ab8ecf69fc"
   },
   "outputs": [
    {
     "data": {
      "text/html": [
       "<div>\n",
       "<style scoped>\n",
       "    .dataframe tbody tr th:only-of-type {\n",
       "        vertical-align: middle;\n",
       "    }\n",
       "\n",
       "    .dataframe tbody tr th {\n",
       "        vertical-align: top;\n",
       "    }\n",
       "\n",
       "    .dataframe thead th {\n",
       "        text-align: right;\n",
       "    }\n",
       "</style>\n",
       "<table border=\"1\" class=\"dataframe\">\n",
       "  <thead>\n",
       "    <tr style=\"text-align: right;\">\n",
       "      <th></th>\n",
       "      <th>label</th>\n",
       "      <th>description</th>\n",
       "      <th>descriptionClean</th>\n",
       "    </tr>\n",
       "  </thead>\n",
       "  <tbody>\n",
       "    <tr>\n",
       "      <th>1</th>\n",
       "      <td>enhancement</td>\n",
       "      <td>Switch Router to Browser Router If we can fig...</td>\n",
       "      <td>switch router browser router figure switch rou...</td>\n",
       "    </tr>\n",
       "    <tr>\n",
       "      <th>3</th>\n",
       "      <td>enhancement</td>\n",
       "      <td>Enable autocompletion and quickinfo for confi...</td>\n",
       "      <td>enable autocompletion quickinfo config.js edit...</td>\n",
       "    </tr>\n",
       "    <tr>\n",
       "      <th>5</th>\n",
       "      <td>enhancement</td>\n",
       "      <td>User should be able to add product to custome...</td>\n",
       "      <td>user able add product customer order **given**...</td>\n",
       "    </tr>\n",
       "    <tr>\n",
       "      <th>6</th>\n",
       "      <td>enhancement</td>\n",
       "      <td>[page]: Add keyevent to close a page Add a ev...</td>\n",
       "      <td>[page]: add keyevent close page add eventkey c...</td>\n",
       "    </tr>\n",
       "    <tr>\n",
       "      <th>7</th>\n",
       "      <td>enhancement</td>\n",
       "      <td>建议增加类似 redux-devtools 的停靠窗口的功能 现在的 xswitch 作为...</td>\n",
       "      <td>建议增加类似 redux-devtools 的停靠窗口的功能 现在的 xswitch 作为一...</td>\n",
       "    </tr>\n",
       "    <tr>\n",
       "      <th>9</th>\n",
       "      <td>enhancement</td>\n",
       "      <td>Browser.assert.text should support an array o...</td>\n",
       "      <td>browser.assert.text support array expected tex...</td>\n",
       "    </tr>\n",
       "    <tr>\n",
       "      <th>14</th>\n",
       "      <td>enhancement</td>\n",
       "      <td>Add \"Single tab mode\"</td>\n",
       "      <td>add \"single tab mode\"</td>\n",
       "    </tr>\n",
       "    <tr>\n",
       "      <th>17</th>\n",
       "      <td>enhancement</td>\n",
       "      <td>Add support for more primitive types Gson sup...</td>\n",
       "      <td>add support primitive types gson supports prim...</td>\n",
       "    </tr>\n",
       "    <tr>\n",
       "      <th>19</th>\n",
       "      <td>enhancement</td>\n",
       "      <td>Daybloom uncraftable No recipe currently exis...</td>\n",
       "      <td>daybloom uncraftable recipe currently exists p...</td>\n",
       "    </tr>\n",
       "    <tr>\n",
       "      <th>23</th>\n",
       "      <td>enhancement</td>\n",
       "      <td>AuthScreen needs a full screen background ima...</td>\n",
       "      <td>authscreen needs screen background image right...</td>\n",
       "    </tr>\n",
       "  </tbody>\n",
       "</table>\n",
       "</div>"
      ],
      "text/plain": [
       "          label                                        description  \\\n",
       "1   enhancement   Switch Router to Browser Router If we can fig...   \n",
       "3   enhancement   Enable autocompletion and quickinfo for confi...   \n",
       "5   enhancement   User should be able to add product to custome...   \n",
       "6   enhancement   [page]: Add keyevent to close a page Add a ev...   \n",
       "7   enhancement   建议增加类似 redux-devtools 的停靠窗口的功能 现在的 xswitch 作为...   \n",
       "9   enhancement   Browser.assert.text should support an array o...   \n",
       "14  enhancement                            Add \"Single tab mode\"     \n",
       "17  enhancement   Add support for more primitive types Gson sup...   \n",
       "19  enhancement   Daybloom uncraftable No recipe currently exis...   \n",
       "23  enhancement   AuthScreen needs a full screen background ima...   \n",
       "\n",
       "                                     descriptionClean  \n",
       "1   switch router browser router figure switch rou...  \n",
       "3   enable autocompletion quickinfo config.js edit...  \n",
       "5   user able add product customer order **given**...  \n",
       "6   [page]: add keyevent close page add eventkey c...  \n",
       "7   建议增加类似 redux-devtools 的停靠窗口的功能 现在的 xswitch 作为一...  \n",
       "9   browser.assert.text support array expected tex...  \n",
       "14                              add \"single tab mode\"  \n",
       "17  add support primitive types gson supports prim...  \n",
       "19  daybloom uncraftable recipe currently exists p...  \n",
       "23  authscreen needs screen background image right...  "
      ]
     },
     "execution_count": 15,
     "metadata": {},
     "output_type": "execute_result"
    }
   ],
   "source": [
    "labels_clean_df.head(10)"
   ]
  },
  {
   "cell_type": "code",
   "execution_count": 16,
   "metadata": {
    "colab": {
     "base_uri": "https://localhost:8080/",
     "height": 1000
    },
    "id": "DhSczEfzpY6M",
    "outputId": "a636c1b2-4af7-4f41-eb25-174552949d5b"
   },
   "outputs": [
    {
     "data": {
      "text/html": [
       "<div>\n",
       "<style scoped>\n",
       "    .dataframe tbody tr th:only-of-type {\n",
       "        vertical-align: middle;\n",
       "    }\n",
       "\n",
       "    .dataframe tbody tr th {\n",
       "        vertical-align: top;\n",
       "    }\n",
       "\n",
       "    .dataframe thead th {\n",
       "        text-align: right;\n",
       "    }\n",
       "</style>\n",
       "<table border=\"1\" class=\"dataframe\">\n",
       "  <thead>\n",
       "    <tr style=\"text-align: right;\">\n",
       "      <th></th>\n",
       "      <th>word</th>\n",
       "      <th>frequency</th>\n",
       "    </tr>\n",
       "  </thead>\n",
       "  <tbody>\n",
       "    <tr>\n",
       "      <th>0</th>\n",
       "      <td>-</td>\n",
       "      <td>23452</td>\n",
       "    </tr>\n",
       "    <tr>\n",
       "      <th>1</th>\n",
       "      <td>```</td>\n",
       "      <td>15615</td>\n",
       "    </tr>\n",
       "    <tr>\n",
       "      <th>2</th>\n",
       "      <td>=</td>\n",
       "      <td>14456</td>\n",
       "    </tr>\n",
       "    <tr>\n",
       "      <th>3</th>\n",
       "      <td>file</td>\n",
       "      <td>8854</td>\n",
       "    </tr>\n",
       "    <tr>\n",
       "      <th>4</th>\n",
       "      <td>|</td>\n",
       "      <td>8419</td>\n",
       "    </tr>\n",
       "    <tr>\n",
       "      <th>5</th>\n",
       "      <td>{</td>\n",
       "      <td>8221</td>\n",
       "    </tr>\n",
       "    <tr>\n",
       "      <th>6</th>\n",
       "      <td>*</td>\n",
       "      <td>6424</td>\n",
       "    </tr>\n",
       "    <tr>\n",
       "      <th>7</th>\n",
       "      <td>line</td>\n",
       "      <td>6010</td>\n",
       "    </tr>\n",
       "    <tr>\n",
       "      <th>8</th>\n",
       "      <td>add</td>\n",
       "      <td>5943</td>\n",
       "    </tr>\n",
       "    <tr>\n",
       "      <th>9</th>\n",
       "      <td>[</td>\n",
       "      <td>5921</td>\n",
       "    </tr>\n",
       "  </tbody>\n",
       "</table>\n",
       "</div>"
      ],
      "text/plain": [
       "   word  frequency\n",
       "0     -      23452\n",
       "1   ```      15615\n",
       "2     =      14456\n",
       "3  file       8854\n",
       "4     |       8419\n",
       "5     {       8221\n",
       "6     *       6424\n",
       "7  line       6010\n",
       "8   add       5943\n",
       "9     [       5921"
      ]
     },
     "execution_count": 16,
     "metadata": {},
     "output_type": "execute_result"
    }
   ],
   "source": [
    "# Lists the frequency of each word\n",
    "from collections import Counter\n",
    "top_20 = pd.DataFrame(Counter(\" \".join(labels_clean_df['descriptionClean']).split()).most_common(50),columns=['word', 'frequency'])\n",
    "top_20.head(10)"
   ]
  },
  {
   "cell_type": "code",
   "execution_count": 17,
   "metadata": {
    "id": "x7bYmTB4s10n"
   },
   "outputs": [],
   "source": [
    "punctuations = \"//\\-'?!.,#$%\\'()*+-/:;<=>@[\\\\]^_`{|}~\" + '\"\"“”’' + '∞θ÷α•à−β∅³π‘₹´°£€\\×™√²—–&'\n",
    "punctuations_map = {\"‘\": \"\", \"₹\": \"\", \"´\": \"\", \"°\": \"\", \"€\": \"\", \"™\": \"\", \"√\": \"  \", \"×\": \"\", \"²\": \"\", \"—\": \"\", \"–\": \"\", \"’\": \"\", \"_\": \"\",\n",
    "                 \"`\": \"\", '“': '', '”': '', '“': '', \"£\": \"\", '∞': '', 'θ': '', '÷': '', 'α': '', '•': '', 'à': '', '−': '',\n",
    "                 'β': '', '∅': '', '³': '', 'π': '','.':'', '-':'','/':'',':':'',',':'',\"'\":\"\",'\"':'','(':'',')':'','*':'',\n",
    "                 '=': '','#': '','[' : '',']':'','0': '','>': '','\"\\\"': '\"\"','0': '','>': '','<': '','{': '','}': '',\n",
    "                 '1': '',';': '', '+':'','!':'','$':'','@':'','%':'','2':'','3':'','4':'','5':'','6':'','7':'',\n",
    "                 '8':'','9':'','0':'','|':'','x':'','\\\\':'','&':'','~':'','^':''}\n",
    "def remove_special_chars(text, punctuations, mapping):\n",
    "    for p in mapping:\n",
    "        text = text.replace(p, mapping[p])\n",
    "    for p in punctuations:\n",
    "        text = text.replace(p, f' {p} ')\n",
    "    return text"
   ]
  },
  {
   "cell_type": "code",
   "execution_count": 18,
   "metadata": {
    "id": "brVTYnaEs1yf"
   },
   "outputs": [],
   "source": [
    "labels_clean_df['descriptionClean'] = labels_clean_df['descriptionClean'].apply(lambda x: remove_special_chars(x, punctuations, punctuations_map))"
   ]
  },
  {
   "cell_type": "code",
   "execution_count": 19,
   "metadata": {
    "colab": {
     "base_uri": "https://localhost:8080/",
     "height": 1000
    },
    "id": "63rOHcN6s1v5",
    "outputId": "415af51a-1f73-4fa9-9ccc-b21d9d6b3513"
   },
   "outputs": [
    {
     "name": "stdout",
     "output_type": "stream",
     "text": [
      "          label                                        description  \\\n",
      "1   enhancement   Switch Router to Browser Router If we can fig...   \n",
      "3   enhancement   Enable autocompletion and quickinfo for confi...   \n",
      "5   enhancement   User should be able to add product to custome...   \n",
      "6   enhancement   [page]: Add keyevent to close a page Add a ev...   \n",
      "7   enhancement   建议增加类似 redux-devtools 的停靠窗口的功能 现在的 xswitch 作为...   \n",
      "9   enhancement   Browser.assert.text should support an array o...   \n",
      "14  enhancement                            Add \"Single tab mode\"     \n",
      "17  enhancement   Add support for more primitive types Gson sup...   \n",
      "19  enhancement   Daybloom uncraftable No recipe currently exis...   \n",
      "23  enhancement   AuthScreen needs a full screen background ima...   \n",
      "\n",
      "                                     descriptionClean  \n",
      "1   switch router browser router figure switch rou...  \n",
      "3   enable autocompletion quickinfo configjs editi...  \n",
      "5   user able add product customer order given cus...  \n",
      "6   page add keyevent close page add eventkey clos...  \n",
      "7   建议增加类似 redudevtools 的停靠窗口的功能 现在的 switch 作为一个 p...  \n",
      "9   browserasserttet support array epected tets te...  \n",
      "14                                add single tab mode  \n",
      "17  add support primitive types gson supports prim...  \n",
      "19  daybloom uncraftable recipe currently eists pr...  \n",
      "23  authscreen needs screen background image right...  \n",
      "      word  frequency\n",
      "0        ?      14858\n",
      "1    error      10297\n",
      "2     file      10295\n",
      "3  version       9173\n",
      "4     line       6780\n",
      "5      add       6193\n",
      "6      new       5976\n",
      "7    issue       5815\n",
      "8      use       5554\n",
      "9     code       4673\n"
     ]
    }
   ],
   "source": [
    "print(labels_clean_df.head(10))\n",
    "top_20 = pd.DataFrame(Counter(\" \".join(labels_clean_df['descriptionClean']).split()).most_common(50),columns=['word', 'frequency'])\n",
    "print(top_20.head(10))"
   ]
  },
  {
   "cell_type": "markdown",
   "metadata": {
    "id": "yCG17WqUdkp2"
   },
   "source": [
    "Train-test split"
   ]
  },
  {
   "cell_type": "code",
   "execution_count": 20,
   "metadata": {
    "id": "yvFkbkMDrlY0"
   },
   "outputs": [],
   "source": [
    "# Split the data from training and testing\n",
    "from sklearn.model_selection import train_test_split\n",
    "x_train,x_test,y_train,y_test = train_test_split(labels_clean_df['description'],labels_clean_df['label'],test_size=0.05,random_state=42)"
   ]
  },
  {
   "cell_type": "markdown",
   "metadata": {
    "id": "7nD3ELknvja3"
   },
   "source": [
    "**Model building**\n",
    "\n",
    "**Logistic Regression**\n",
    "\n",
    "This algorithms is used to build the issue classification model.\n",
    "It uses Improved TF-IDF with 3-grams and better token handling."
   ]
  },
  {
   "cell_type": "code",
   "execution_count": 21,
   "metadata": {
    "id": "5bAdzZr7sZUF"
   },
   "outputs": [],
   "source": [
    "# Importing machine learning packages. \n",
    "# The Pipeline package automates all the stages and processes used in building the model.\n",
    "from sklearn.metrics import accuracy_score, classification_report, confusion_matrix, ConfusionMatrixDisplay\n",
    "from sklearn.metrics import accuracy_score\n",
    "from sklearn.feature_extraction.text import CountVectorizer\n",
    "\n",
    "from sklearn.tree import DecisionTreeClassifier\n",
    "from sklearn.linear_model import LogisticRegression\n",
    "from sklearn.naive_bayes import MultinomialNB\n",
    "from sklearn.ensemble import RandomForestClassifier\n",
    "from sklearn.metrics import accuracy_score\n",
    "from sklearn.pipeline import Pipeline"
   ]
  },
  {
   "cell_type": "code",
   "execution_count": 22,
   "metadata": {},
   "outputs": [
    {
     "name": "stdout",
     "output_type": "stream",
     "text": [
      "LogisticRegression Performance:\n",
      "              precision    recall  f1-score   support\n",
      "\n",
      "         bug       0.87      0.96      0.91      1451\n",
      " enhancement       0.93      0.91      0.92       700\n",
      "    question       0.97      0.89      0.92      1674\n",
      "\n",
      "    accuracy                           0.92      3825\n",
      "   macro avg       0.92      0.92      0.92      3825\n",
      "weighted avg       0.92      0.92      0.92      3825\n",
      "\n"
     ]
    }
   ],
   "source": [
    "## LogisticRegression with open coding\n",
    "from sklearn.pipeline import Pipeline\n",
    "from sklearn.feature_extraction.text import TfidfVectorizer\n",
    "from sklearn.naive_bayes import MultinomialNB\n",
    "from sklearn.linear_model import LogisticRegression\n",
    "from sklearn.metrics import classification_report\n",
    "from sklearn.model_selection import train_test_split\n",
    "import re\n",
    "\n",
    "# Open Coding Function\n",
    "def open_coding(text):\n",
    "    text = text.lower()\n",
    "    if re.search(r'\\b(question|how|can|why|what|which|does|is it possible|should i|i was wondering|help|explain|are you)\\b|\\?', text):\n",
    "        return 'question'\n",
    "    if re.search(r'\\b(error|crash|unexpected|bug|issue|fail|incorrect|wrong|broken|reproduce|debug|expected|steps|behavior)\\b', text):\n",
    "        return 'bug'\n",
    "    if re.search(r'\\b(improve|enhance|feature request|support|extend|add)\\b', text):\n",
    "        return 'enhancement'\n",
    "    \n",
    "    return 'other'  # Catch-all category (not used in final classification)\n",
    "\n",
    "# Apply open coding\n",
    "labels_clean_df['open_coding_label'] = labels_clean_df['descriptionClean'].apply(open_coding)\n",
    "\n",
    "# Remove unnecessary labels\n",
    "labels_clean_df = labels_clean_df[labels_clean_df['open_coding_label'] != 'other']\n",
    "\n",
    "# Train-test split\n",
    "x_train, x_test, y_train, y_test = train_test_split(labels_clean_df['descriptionClean'], labels_clean_df['open_coding_label'], test_size=0.2, random_state=6)\n",
    "\n",
    "# Improved TF-IDF with 3-grams and better token handling\n",
    "tfidf_vectorizer = TfidfVectorizer(\n",
    "    ngram_range=(1,3),  # Capture phrase context\n",
    "    max_df=0.9,         # Ignore very common words\n",
    "    min_df=2,           # Ignore rare words\n",
    "    stop_words='english', \n",
    "    token_pattern=r'(?u)\\b\\w+\\b|[?]',  # Include special characters like \"?\"\n",
    ")\n",
    "\n",
    "# Pipeline for LogisticRegression\n",
    "pipeline_lr = Pipeline(steps=[\n",
    "    ('tfidf', tfidf_vectorizer),  # Convert text to TF-IDF features\n",
    "    ('lr', LogisticRegression(max_iter=500))  # Train using Logistic Regression\n",
    "])\n",
    "\n",
    "# Train and predict using LogisticRegression\n",
    "pipeline_lr.fit(x_train, y_train)\n",
    "y_pred_lr = pipeline_lr.predict(x_test)\n",
    "\n",
    "# Evaluate LogisticRegression\n",
    "print(\"LogisticRegression Performance:\")\n",
    "print(classification_report(y_test, y_pred_lr))\n"
   ]
  },
  {
   "cell_type": "code",
   "execution_count": 28,
   "metadata": {},
   "outputs": [
    {
     "data": {
      "text/html": [
       "<div>\n",
       "<style scoped>\n",
       "    .dataframe tbody tr th:only-of-type {\n",
       "        vertical-align: middle;\n",
       "    }\n",
       "\n",
       "    .dataframe tbody tr th {\n",
       "        vertical-align: top;\n",
       "    }\n",
       "\n",
       "    .dataframe thead th {\n",
       "        text-align: right;\n",
       "    }\n",
       "</style>\n",
       "<table border=\"1\" class=\"dataframe\">\n",
       "  <thead>\n",
       "    <tr style=\"text-align: right;\">\n",
       "      <th></th>\n",
       "      <th>0</th>\n",
       "      <th>1</th>\n",
       "      <th>2</th>\n",
       "      <th>3</th>\n",
       "      <th>4</th>\n",
       "    </tr>\n",
       "  </thead>\n",
       "  <tbody>\n",
       "    <tr>\n",
       "      <th>0</th>\n",
       "      <td></td>\n",
       "      <td>None</td>\n",
       "      <td>__label__bug</td>\n",
       "      <td>None</td>\n",
       "      <td>Correct Minimum Java Requirement to 17 Instea...</td>\n",
       "    </tr>\n",
       "    <tr>\n",
       "      <th>1</th>\n",
       "      <td></td>\n",
       "      <td>None</td>\n",
       "      <td>None</td>\n",
       "      <td>__label__question</td>\n",
       "      <td>Investigate if XSoup is still needed IIRC we ...</td>\n",
       "    </tr>\n",
       "    <tr>\n",
       "      <th>2</th>\n",
       "      <td></td>\n",
       "      <td>None</td>\n",
       "      <td>__label__bug</td>\n",
       "      <td>None</td>\n",
       "      <td>Jacoco Coverage doesn't meet specified criter...</td>\n",
       "    </tr>\n",
       "    <tr>\n",
       "      <th>3</th>\n",
       "      <td></td>\n",
       "      <td>None</td>\n",
       "      <td>None</td>\n",
       "      <td>__label__question</td>\n",
       "      <td>WARCHdfsBolt forwarding WARC file path to Sta...</td>\n",
       "    </tr>\n",
       "    <tr>\n",
       "      <th>4</th>\n",
       "      <td></td>\n",
       "      <td>None</td>\n",
       "      <td>__label__bug</td>\n",
       "      <td>None</td>\n",
       "      <td>PostgreSQL Binding fails PostgreSQLDiagnostic...</td>\n",
       "    </tr>\n",
       "  </tbody>\n",
       "</table>\n",
       "</div>"
      ],
      "text/plain": [
       "  0     1             2                  3  \\\n",
       "0    None  __label__bug               None   \n",
       "1    None          None  __label__question   \n",
       "2    None  __label__bug               None   \n",
       "3    None          None  __label__question   \n",
       "4    None  __label__bug               None   \n",
       "\n",
       "                                                   4  \n",
       "0   Correct Minimum Java Requirement to 17 Instea...  \n",
       "1   Investigate if XSoup is still needed IIRC we ...  \n",
       "2   Jacoco Coverage doesn't meet specified criter...  \n",
       "3   WARCHdfsBolt forwarding WARC file path to Sta...  \n",
       "4   PostgreSQL Binding fails PostgreSQLDiagnostic...  "
      ]
     },
     "execution_count": 28,
     "metadata": {},
     "output_type": "execute_result"
    }
   ],
   "source": [
    "## Prepare/clean manual testing dataset\n",
    "\n",
    "df_test = pd.read_csv('https://raw.githubusercontent.com/abritidas/Automatic-Issue-Labeling-using-Machine-Learning/refs/heads/main/manual_test_data.csv', header=None, sep=',')\n",
    "df_test = df_test[0].str.split(r'(__label__enhancement)|(__label__bug)|(__label__question)', expand=True)\n",
    "\n",
    "test_enhancement_df = df_test[df_test[1] == '__label__enhancement'][[1,4]]\n",
    "test_bug_df = df_test[df_test[2] == '__label__bug'][[2,4]]\n",
    "test_question_df = df_test[df_test[3] == '__label__question'][[3,4]]\n",
    "\n",
    "test_enhancement_df.columns = ['label','description']\n",
    "test_bug_df.columns = ['label','description']\n",
    "test_question_df.columns = ['label','description']\n",
    "\n",
    "test_final_df = pd.concat([test_enhancement_df, test_bug_df, test_question_df])\n",
    "test_final_df['label'] = test_final_df['label'].str.replace('__label__', '')\n",
    "test_final_df['descriptionClean'] = test_final_df['description'].apply(lambda x: nfx.remove_stopwords(str(x).lower()))\n",
    "\n",
    "df_test.head(5)"
   ]
  },
  {
   "cell_type": "code",
   "execution_count": 29,
   "metadata": {},
   "outputs": [
    {
     "name": "stdout",
     "output_type": "stream",
     "text": [
      "label\n",
      "bug            13\n",
      "question       12\n",
      "enhancement    11\n",
      "Name: count, dtype: int64\n"
     ]
    },
    {
     "data": {
      "text/plain": [
       "<Axes: xlabel='label', ylabel='count'>"
      ]
     },
     "execution_count": 29,
     "metadata": {},
     "output_type": "execute_result"
    },
    {
     "data": {
      "image/png": "[encoded data removed]",
      "text/plain": [
       "<Figure size 640x480 with 1 Axes>"
      ]
     },
     "metadata": {},
     "output_type": "display_data"
    }
   ],
   "source": [
    "print(test_final_df['label'].value_counts())\n",
    "sns.countplot(x = 'label', data = test_final_df)"
   ]
  },
  {
   "cell_type": "code",
   "execution_count": 30,
   "metadata": {},
   "outputs": [
    {
     "name": "stdout",
     "output_type": "stream",
     "text": [
      "\n",
      "❌ Mismatched Predictions:\n",
      "          label predicted_label  \\\n",
      "13  enhancement        question   \n",
      "16  enhancement        question   \n",
      "19  enhancement             bug   \n",
      "7           bug        question   \n",
      "1      question             bug   \n",
      "\n",
      "                                          description  \n",
      "13   implement Backdrop component to block user in...  \n",
      "16   Make screen size available in st.context Make...  \n",
      "19   Enable formatting/styling of editable columns...  \n",
      "7    st.popover won't use container width if help ...  \n",
      "1    Investigate if XSoup is still needed IIRC we ...  \n",
      "\n",
      "📊 Classification Report on Test Data:\n",
      "              precision    recall  f1-score   support\n",
      "\n",
      "         bug       0.86      0.92      0.89        13\n",
      " enhancement       1.00      0.73      0.84        11\n",
      "    question       0.79      0.92      0.85        12\n",
      "\n",
      "    accuracy                           0.86        36\n",
      "   macro avg       0.88      0.86      0.86        36\n",
      "weighted avg       0.88      0.86      0.86        36\n",
      "\n"
     ]
    }
   ],
   "source": [
    "## Run LogisticRegression model on testing Manual data\n",
    "\n",
    "from sklearn.metrics import classification_report\n",
    "\n",
    "# Predict using the trained model\n",
    "test_final_df['predicted_label'] = pipeline_lr.predict(test_final_df['descriptionClean'])\n",
    "\n",
    "# Filter mismatches\n",
    "mismatches_df = test_final_df[test_final_df['label'] != test_final_df['predicted_label']]\n",
    "\n",
    "# Pretty print mismatches using pandas formatting\n",
    "print(\"\\n❌ Mismatched Predictions:\")\n",
    "print(mismatches_df[['label', 'predicted_label', 'description']])\n",
    "\n",
    "# Print F1 score summary\n",
    "print(\"\\n📊 Classification Report on Test Data:\")\n",
    "print(classification_report(test_final_df['label'], test_final_df['predicted_label']))"
   ]
  },
  {
   "cell_type": "markdown",
   "metadata": {
    "id": "e7maQ3jdy1gY"
   },
   "source": [
    "***Pipeline package has automated the model building. It is done in two stages***\n",
    "\n",
    "We have two stages as follows:\n",
    "1.   Convert text to TF-IDF features\n",
    "2.   Using the Logistic Regression algorithm to train the model."
   ]
  },
  {
   "cell_type": "code",
   "execution_count": 31,
   "metadata": {},
   "outputs": [
    {
     "name": "stdout",
     "output_type": "stream",
     "text": [
      "\n",
      " Cross Validation Scores are [0.91176471 0.9120915  0.91601307 0.90718954 0.91173586]\n",
      "\n",
      " Average Cross Validation score :0.9117589369844048\n",
      "\n",
      " Predicted Label: bug\n"
     ]
    }
   ],
   "source": [
    "from sklearn.model_selection import cross_val_score\n",
    "\n",
    "score = cross_val_score(pipeline_lr, x_train, y_train)\n",
    "print(\"\\n Cross Validation Scores are {}\".format(score))\n",
    "print(\"\\n Average Cross Validation score :{}\".format(score.mean()))\n",
    "\n",
    "# Actual label: Bug\n",
    "input_description = \"Changed files not detected for file upload\"\n",
    "\n",
    "#Predicted Label\n",
    "print(\"\\n Predicted Label: \" + pipeline_lr.predict([input_description])[0])"
   ]
  }
 ],
 "metadata": {
  "colab": {
   "collapsed_sections": [],
   "name": "Classification of Issues- Final.ipynb",
   "provenance": []
  },
  "kernelspec": {
   "display_name": "Python 3 (ipykernel)",
   "language": "python",
   "name": "python3"
  },
  "language_info": {
   "codemirror_mode": {
    "name": "ipython",
    "version": 3
   },
   "file_extension": ".py",
   "mimetype": "text/x-python",
   "name": "python",
   "nbconvert_exporter": "python",
   "pygments_lexer": "ipython3",
   "version": "3.10.0"
  }
 },
 "nbformat": 4,
 "nbformat_minor": 4
}
